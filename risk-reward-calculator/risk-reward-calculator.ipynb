{
 "cells": [
  {
   "cell_type": "markdown",
   "id": "33653d81-c6c1-4698-b301-df5e81693321",
   "metadata": {},
   "source": [
    "# R-Multiples and Risk/Reward Analysis with Python"
   ]
  },
  {
   "cell_type": "markdown",
   "id": "bd90fb7e-4e16-40c4-99b3-f31e8b1fee80",
   "metadata": {},
   "source": [
    "## Dev env configuration"
   ]
  },
  {
   "cell_type": "code",
   "execution_count": 1,
   "id": "0e29b865-840a-4cdf-8fd6-40c24a15b68f",
   "metadata": {},
   "outputs": [],
   "source": [
    "# install the required python packages\n",
    "# !pip install numpy pandas"
   ]
  },
  {
   "cell_type": "markdown",
   "id": "54344ca4-603b-4e73-9fc8-7a129871bcb9",
   "metadata": {},
   "source": [
    "## Imports"
   ]
  },
  {
   "cell_type": "code",
   "execution_count": 2,
   "id": "7b2aaf99-d10e-446a-8d74-6bce86ba2109",
   "metadata": {},
   "outputs": [],
   "source": [
    "# import the necessary packages\n",
    "from typing import Optional\n",
    "from typing import Union\n",
    "from typing import List\n",
    "from dataclasses import dataclass\n",
    "import pandas as pd"
   ]
  },
  {
   "cell_type": "markdown",
   "id": "72ded362-7bff-4675-990d-d12d0382edc7",
   "metadata": {},
   "source": [
    "## Implementing a simple risk/reward calculator"
   ]
  },
  {
   "cell_type": "code",
   "execution_count": 3,
   "id": "b239cee2-3a6a-46b6-8dc3-6b8a3fb6edf3",
   "metadata": {},
   "outputs": [],
   "source": [
    "@dataclass(frozen=True)\n",
    "class TradeRiskParams:\n",
    "    # define the data schema for risk/reward parameters for a given trade\n",
    "    amount_to_risk: float\n",
    "    percent_risk: float\n",
    "    shares_to_buy: float\n",
    "    total_investment: float"
   ]
  },
  {
   "cell_type": "code",
   "execution_count": 4,
   "id": "6918b677-7843-4492-bf47-5729f2aa3ce9",
   "metadata": {},
   "outputs": [],
   "source": [
    "@dataclass(frozen=True)\n",
    "class RLevelOutput:\n",
    "    # define the data schema for R-level outputs\n",
    "    r_level: int\n",
    "    potential_pl: float\n",
    "    price: float"
   ]
  },
  {
   "cell_type": "code",
   "execution_count": 5,
   "id": "189a97a6-c83c-443d-8671-fca16f0283fe",
   "metadata": {},
   "outputs": [],
   "source": [
    "class RiskRewardCalculator:\n",
    "\n",
    "    # define the list of default R-values to compute\n",
    "    DEFAULT_R_VALUES = [1, 2, 3, 4, 5]\n",
    "\n",
    "    def __init__(\n",
    "            self,\n",
    "            total_account_value: float,\n",
    "            buy_point: float,\n",
    "            stop_loss: float,\n",
    "            risk_rate: float = 0.01\n",
    "    ) -> None:\n",
    "        # store the total account value, buy point, stop loss, and risk rate\n",
    "        self.total_account_value = total_account_value\n",
    "        self.buy_point = buy_point\n",
    "        self.stop_loss = stop_loss\n",
    "        self.risk_rate = risk_rate\n",
    "\n",
    "        # calculate the amount to risk on each trade\n",
    "        self.amount_to_risk = self.total_account_value * self.risk_rate\n",
    "\n",
    "        # determine the price difference between the buy point and stop loss,\n",
    "        # then derive the number of shares to buy based on the amount to risk\n",
    "        self.price_delta = self.buy_point - self.stop_loss\n",
    "        self.shares_to_buy = self.amount_to_risk / self.price_delta\n",
    "\n",
    "        # calculate the total amount of money to be invested based on the\n",
    "        # number of shares to buy and the buy point\n",
    "        self.total_investment = self.shares_to_buy * self.buy_point\n",
    "\n",
    "        # derive the overall risk percentage of the account\n",
    "        amount_ratio = self.amount_to_risk / self.total_account_value\n",
    "        self.risk_pct_of_account = amount_ratio * 100\n",
    "\n",
    "    def get_risk_parameters(self) -> TradeRiskParams:\n",
    "        # construct and return the calculated risk parameters\n",
    "        return TradeRiskParams(\n",
    "            amount_to_risk=self.amount_to_risk,\n",
    "            percent_risk=self.risk_pct_of_account,\n",
    "            shares_to_buy=self.shares_to_buy,\n",
    "            total_investment=self.total_investment\n",
    "        )\n",
    "\n",
    "    def r_levels(\n",
    "            self,\n",
    "            r_levels: Optional[List[Union[int, float]]] = None\n",
    "    ) -> List[RLevelOutput]:\n",
    "        # check to see if risk/reward levels were not provided\n",
    "        if not isinstance(r_levels, list):\n",
    "            # use the default risk/reward levels\n",
    "            r_levels = self.DEFAULT_R_VALUES\n",
    "\n",
    "        # initialize the list of R-level outputs\n",
    "        results = []\n",
    "\n",
    "        # loop over the levels\n",
    "        for r in r_levels:\n",
    "            # calculate (1) the potential profit/loss, and (2) the price at\n",
    "            # the current level\n",
    "            potential_pl = r * self.amount_to_risk\n",
    "            price = self.buy_point + (r * self.price_delta)\n",
    "\n",
    "            # update the results list\n",
    "            results.append(RLevelOutput(\n",
    "                r_level=r,\n",
    "                potential_pl=potential_pl,\n",
    "                price=price\n",
    "            ))\n",
    "\n",
    "        # return the list of r-level results\n",
    "        return results\n",
    "\n",
    "    def r_level_at_price(self, price: float) -> float:\n",
    "        # compute and return the r-level for the input price\n",
    "        return (price - self.buy_point) / self.price_delta"
   ]
  },
  {
   "cell_type": "markdown",
   "id": "5d887f3f-da45-4995-af8b-efbb1748c6a2",
   "metadata": {},
   "source": [
    "## Using our risk/reward calculator in real-world trading situations"
   ]
  },
  {
   "cell_type": "code",
   "execution_count": 6,
   "id": "fbf2fd1d-925c-4239-a08b-2754bbd75cbb",
   "metadata": {},
   "outputs": [],
   "source": [
    "# initialize the risk/reward calculator for a potential trade\n",
    "calc = RiskRewardCalculator(\n",
    "    total_account_value=25_000,\n",
    "    buy_point=100.61,\n",
    "    stop_loss=95.0\n",
    ")"
   ]
  },
  {
   "cell_type": "code",
   "execution_count": 7,
   "id": "ce64b91d-0cec-4a3a-af6c-547a84ea5b38",
   "metadata": {},
   "outputs": [
    {
     "data": {
      "text/html": [
       "<div>\n",
       "<style scoped>\n",
       "    .dataframe tbody tr th:only-of-type {\n",
       "        vertical-align: middle;\n",
       "    }\n",
       "\n",
       "    .dataframe tbody tr th {\n",
       "        vertical-align: top;\n",
       "    }\n",
       "\n",
       "    .dataframe thead th {\n",
       "        text-align: right;\n",
       "    }\n",
       "</style>\n",
       "<table border=\"1\" class=\"dataframe\">\n",
       "  <thead>\n",
       "    <tr style=\"text-align: right;\">\n",
       "      <th></th>\n",
       "      <th>Trade</th>\n",
       "    </tr>\n",
       "  </thead>\n",
       "  <tbody>\n",
       "    <tr>\n",
       "      <th>Amount To Risk</th>\n",
       "      <td>250.000000</td>\n",
       "    </tr>\n",
       "    <tr>\n",
       "      <th>Risk % of Account</th>\n",
       "      <td>1.000000</td>\n",
       "    </tr>\n",
       "    <tr>\n",
       "      <th>Shares to Buy</th>\n",
       "      <td>44.563280</td>\n",
       "    </tr>\n",
       "    <tr>\n",
       "      <th>Total Investment</th>\n",
       "      <td>4483.511586</td>\n",
       "    </tr>\n",
       "  </tbody>\n",
       "</table>\n",
       "</div>"
      ],
      "text/plain": [
       "                         Trade\n",
       "Amount To Risk      250.000000\n",
       "Risk % of Account     1.000000\n",
       "Shares to Buy        44.563280\n",
       "Total Investment   4483.511586"
      ]
     },
     "execution_count": 7,
     "metadata": {},
     "output_type": "execute_result"
    }
   ],
   "source": [
    "# grab the risk parameters\n",
    "risk_params = calc.get_risk_parameters()\n",
    "\n",
    "# construct a dataframe from the parameters and display it\n",
    "df = pd.DataFrame({\n",
    "    \"Amount To Risk\": [risk_params.amount_to_risk],\n",
    "    \"Risk % of Account\": [risk_params.percent_risk],\n",
    "    \"Shares to Buy\": [risk_params.shares_to_buy],\n",
    "    \"Total Investment\": [risk_params.total_investment],\n",
    "}, index=[\"Trade\"]).T\n",
    "df"
   ]
  },
  {
   "cell_type": "code",
   "execution_count": 8,
   "id": "410187e3-c48a-4581-b025-8c302d84243a",
   "metadata": {},
   "outputs": [
    {
     "data": {
      "text/html": [
       "<div>\n",
       "<style scoped>\n",
       "    .dataframe tbody tr th:only-of-type {\n",
       "        vertical-align: middle;\n",
       "    }\n",
       "\n",
       "    .dataframe tbody tr th {\n",
       "        vertical-align: top;\n",
       "    }\n",
       "\n",
       "    .dataframe thead th {\n",
       "        text-align: right;\n",
       "    }\n",
       "</style>\n",
       "<table border=\"1\" class=\"dataframe\">\n",
       "  <thead>\n",
       "    <tr style=\"text-align: right;\">\n",
       "      <th></th>\n",
       "      <th>Potential P&amp;L</th>\n",
       "      <th>Price at R</th>\n",
       "    </tr>\n",
       "  </thead>\n",
       "  <tbody>\n",
       "    <tr>\n",
       "      <th>1</th>\n",
       "      <td>250.0</td>\n",
       "      <td>106.22</td>\n",
       "    </tr>\n",
       "    <tr>\n",
       "      <th>2</th>\n",
       "      <td>500.0</td>\n",
       "      <td>111.83</td>\n",
       "    </tr>\n",
       "    <tr>\n",
       "      <th>3</th>\n",
       "      <td>750.0</td>\n",
       "      <td>117.44</td>\n",
       "    </tr>\n",
       "    <tr>\n",
       "      <th>4</th>\n",
       "      <td>1000.0</td>\n",
       "      <td>123.05</td>\n",
       "    </tr>\n",
       "    <tr>\n",
       "      <th>5</th>\n",
       "      <td>1250.0</td>\n",
       "      <td>128.66</td>\n",
       "    </tr>\n",
       "  </tbody>\n",
       "</table>\n",
       "</div>"
      ],
      "text/plain": [
       "   Potential P&L  Price at R\n",
       "1          250.0      106.22\n",
       "2          500.0      111.83\n",
       "3          750.0      117.44\n",
       "4         1000.0      123.05\n",
       "5         1250.0      128.66"
      ]
     },
     "execution_count": 8,
     "metadata": {},
     "output_type": "execute_result"
    }
   ],
   "source": [
    "# calculate the risk/reward levels\n",
    "r_levels = calc.r_levels()\n",
    "\n",
    "# construct a dataframe from the R-levels and display it\n",
    "df = pd.DataFrame({\n",
    "    \"Potential P&L\": [r.potential_pl for r in r_levels],\n",
    "    \"Price at R\": [r.price for r in r_levels],\n",
    "}, index=[r.r_level for r in r_levels])\n",
    "df"
   ]
  },
  {
   "cell_type": "code",
   "execution_count": 9,
   "id": "4062dc71-d471-4c8b-a76b-a4ca8dc2f42a",
   "metadata": {},
   "outputs": [
    {
     "data": {
      "text/plain": [
       "5.238859180035651"
      ]
     },
     "execution_count": 9,
     "metadata": {},
     "output_type": "execute_result"
    }
   ],
   "source": [
    "# given an input price, determine what the R-level would be\n",
    "calc.r_level_at_price(130.0)"
   ]
  },
  {
   "cell_type": "code",
   "execution_count": null,
   "id": "3fcece5a-eb4b-4fa1-b21b-cd426c4c95d9",
   "metadata": {},
   "outputs": [],
   "source": []
  }
 ],
 "metadata": {
  "kernelspec": {
   "display_name": "Python 3 (ipykernel)",
   "language": "python",
   "name": "python3"
  },
  "language_info": {
   "codemirror_mode": {
    "name": "ipython",
    "version": 3
   },
   "file_extension": ".py",
   "mimetype": "text/x-python",
   "name": "python",
   "nbconvert_exporter": "python",
   "pygments_lexer": "ipython3",
   "version": "3.11.4"
  }
 },
 "nbformat": 4,
 "nbformat_minor": 5
}

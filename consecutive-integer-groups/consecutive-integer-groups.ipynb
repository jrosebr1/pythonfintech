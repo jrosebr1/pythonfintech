{
 "cells": [
  {
   "cell_type": "markdown",
   "id": "bd90fb7e-4e16-40c4-99b3-f31e8b1fee80",
   "metadata": {},
   "source": [
    "## Dev env configuration"
   ]
  },
  {
   "cell_type": "code",
   "execution_count": 1,
   "id": "0e29b865-840a-4cdf-8fd6-40c24a15b68f",
   "metadata": {},
   "outputs": [],
   "source": [
    "# install the required python packages\n",
    "# !pip install numpy pandas"
   ]
  },
  {
   "cell_type": "markdown",
   "id": "54344ca4-603b-4e73-9fc8-7a129871bcb9",
   "metadata": {},
   "source": [
    "## Imports"
   ]
  },
  {
   "cell_type": "code",
   "execution_count": 2,
   "id": "7b2aaf99-d10e-446a-8d74-6bce86ba2109",
   "metadata": {},
   "outputs": [],
   "source": [
    "# import the necessary packages\n",
    "from typing import Union\n",
    "from typing import Sequence\n",
    "from typing import Tuple\n",
    "from typing import List\n",
    "import numpy as np"
   ]
  },
  {
   "cell_type": "markdown",
   "id": "58d11876-db58-4337-9bf6-9940a69c5f66",
   "metadata": {},
   "source": [
    "## Helper method to find groups of groups of \\*consecutive\\* integers"
   ]
  },
  {
   "cell_type": "code",
   "execution_count": 3,
   "id": "429492df-de96-4033-81f7-4a5dbaf00218",
   "metadata": {},
   "outputs": [],
   "source": [
    "def find_consecutive_integers(\n",
    "        idxs: Union[np.typing.ArrayLike, Sequence[int]],\n",
    "        min_consec: int,\n",
    "        start_offset: int = 0\n",
    ") -> List[Tuple[int, int]]:\n",
    "    # check to see if the indexes input is empty\n",
    "    if len(idxs) == 0:\n",
    "        # return an empty list\n",
    "        return []\n",
    "\n",
    "    # ensure the indexes are an array, then initialize a list to store the\n",
    "    # groups\n",
    "    idxs = np.array(idxs)\n",
    "    groups = []\n",
    "\n",
    "    # find boundaries in consecutive sequences where the difference between\n",
    "    # consecutive elements is *not* one, then add in the start and ending\n",
    "    # indexes to the boundaries\n",
    "    boundaries = np.where(np.diff(idxs) != 1)[0] + 1\n",
    "    boundaries = np.concatenate(([0], boundaries, [len(idxs)]))\n",
    "\n",
    "    # loop over the boundary ranges\n",
    "    for i in range(0, len(boundaries) - 1):\n",
    "        # grab the start and end index of the boundary\n",
    "        start_idx = boundaries[i]\n",
    "        end_idx = boundaries[i + 1] - 1\n",
    "\n",
    "        # check to see if the length of the group is greater than our minimum\n",
    "        # threshold\n",
    "        if end_idx - start_idx + 1 >= min_consec:\n",
    "            # update the list of groups\n",
    "            groups.append((\n",
    "                int(idxs[start_idx]) + start_offset,\n",
    "                int(idxs[end_idx]) + start_offset\n",
    "            ))\n",
    "\n",
    "    # return the groups\n",
    "    return groups"
   ]
  },
  {
   "cell_type": "markdown",
   "id": "20faef55-dde1-407f-a4de-59bd5d4a10e5",
   "metadata": {},
   "source": [
    "## Finding groups of consecutive integers in an array"
   ]
  },
  {
   "cell_type": "code",
   "execution_count": 4,
   "id": "1bd14d13-0faf-4e49-a235-315839888756",
   "metadata": {},
   "outputs": [],
   "source": [
    "# define an array of consecutive integers\n",
    "test_array = np.array([\n",
    "    3, 4, 5, 6,         # 4 consecutive integers\n",
    "    9, 10,              # 2 consecutive integers\n",
    "    15, 16, 17, 18, 19, # 5 consecutive integers\n",
    "    25,                 # single value\n",
    "    30, 31, 32,         # 3 consecutive integers\n",
    "    40, 42, 44,         # non-consecutive integers\n",
    "    50, 51, 52, 53      # 4 consecutive integers\n",
    "])"
   ]
  },
  {
   "cell_type": "code",
   "execution_count": 5,
   "id": "eb8cbe1c-9b8f-438f-a062-c87a32d4be8f",
   "metadata": {},
   "outputs": [
    {
     "data": {
      "text/plain": [
       "[(3, 6), (15, 19), (30, 32), (50, 53)]"
      ]
     },
     "execution_count": 5,
     "metadata": {},
     "output_type": "execute_result"
    }
   ],
   "source": [
    "# find sequences with at least three consecutive groups\n",
    "find_consecutive_integers(test_array, min_consec=3)"
   ]
  },
  {
   "cell_type": "code",
   "execution_count": 6,
   "id": "6729683d-d207-44d5-85a9-68b2517fda62",
   "metadata": {},
   "outputs": [
    {
     "data": {
      "text/plain": [
       "[(3, 6), (15, 19), (50, 53)]"
      ]
     },
     "execution_count": 6,
     "metadata": {},
     "output_type": "execute_result"
    }
   ],
   "source": [
    "# find sequences with at least four consecutive groups\n",
    "find_consecutive_integers(test_array, min_consec=4)"
   ]
  },
  {
   "cell_type": "code",
   "execution_count": 7,
   "id": "802d7ca2-938a-4022-b2d4-f3df8b3e14fa",
   "metadata": {},
   "outputs": [
    {
     "data": {
      "text/plain": [
       "[(15, 19)]"
      ]
     },
     "execution_count": 7,
     "metadata": {},
     "output_type": "execute_result"
    }
   ],
   "source": [
    "# find sequences with at least five consecutive groups\n",
    "find_consecutive_integers(test_array, min_consec=5)"
   ]
  },
  {
   "cell_type": "code",
   "execution_count": 8,
   "id": "91d0e06e-10df-4efd-824e-638d2604a8c2",
   "metadata": {},
   "outputs": [
    {
     "data": {
      "text/plain": [
       "[]"
      ]
     },
     "execution_count": 8,
     "metadata": {},
     "output_type": "execute_result"
    }
   ],
   "source": [
    "# find sequences with at least ten consecutive groups\n",
    "find_consecutive_integers(test_array, min_consec=10)"
   ]
  },
  {
   "cell_type": "code",
   "execution_count": 9,
   "id": "5224bde7-e9dd-497d-8d03-e97f5184fc2f",
   "metadata": {},
   "outputs": [
    {
     "data": {
      "text/plain": [
       "[]"
      ]
     },
     "execution_count": 9,
     "metadata": {},
     "output_type": "execute_result"
    }
   ],
   "source": [
    "# verify that passing in an empty list also returns empty groups\n",
    "find_consecutive_integers([], min_consec=3)"
   ]
  },
  {
   "cell_type": "code",
   "execution_count": null,
   "id": "b239cee2-3a6a-46b6-8dc3-6b8a3fb6edf3",
   "metadata": {},
   "outputs": [],
   "source": []
  }
 ],
 "metadata": {
  "kernelspec": {
   "display_name": "Python 3 (ipykernel)",
   "language": "python",
   "name": "python3"
  },
  "language_info": {
   "codemirror_mode": {
    "name": "ipython",
    "version": 3
   },
   "file_extension": ".py",
   "mimetype": "text/x-python",
   "name": "python",
   "nbconvert_exporter": "python",
   "pygments_lexer": "ipython3",
   "version": "3.11.4"
  }
 },
 "nbformat": 4,
 "nbformat_minor": 5
}

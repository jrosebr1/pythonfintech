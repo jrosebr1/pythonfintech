{
 "cells": [
  {
   "cell_type": "markdown",
   "id": "7b55a683-f86b-4dcf-970f-4c8ebeba862c",
   "metadata": {},
   "source": [
    "# Finding groups of consecutive integers in an array\n",
    "\n",
    "In this tutorial, you'll learn how to find groups of consecutive integers in an array.\n",
    "\n",
    "Not a trading tutorial per se, but it's a helper function that exists in my personal fintech library that I developed for myself.\n",
    "\n",
    "It's _incredibly_ useful when you want to check how long a particular trend has been going on (i.e., number of days stock has been trading above a key support level, etc.)\n",
    "\n",
    "We'll be using it in our Part 7 of this series for market stage detection.\n",
    "\n",
    "This tutorial is part 4 in a larger series on getting started with fintech and market analysis with Python:\n",
    "\n",
    "1. How to download market data with yfinance and Python\n",
    "2. My preferred MultiIndex DataFrame structure for stock market data\n",
    "3. How to plot candlestick charts with Python and mplfinance\n",
    "4. How to compute Simple Moving Averages (SMAs) for trading with Python and Pandas\n",
    "5. _Finding consecutive integer groups in arrays with Python and NumPy (this tutorial)_\n",
    "6. Computing slope of series with Pandas and SciPy\n",
    "7. Market stage detection with Python and Pandas\n",
    "8. Implementing TradingView’s Stochastic RSI indicator in Python\n",
    "9. Introduction to position sizing\n",
    "10. Risk/Reward analysis and position sizing with Python"
   ]
  },
  {
   "cell_type": "markdown",
   "id": "bd90fb7e-4e16-40c4-99b3-f31e8b1fee80",
   "metadata": {},
   "source": [
    "## Configuring your development environment"
   ]
  },
  {
   "cell_type": "markdown",
   "id": "8c22d5d0-fb76-4eac-af74-89991264b31f",
   "metadata": {},
   "source": [
    "- Before we dive in, let’s set up our Python environment with the packages we’ll need:"
   ]
  },
  {
   "cell_type": "code",
   "execution_count": 1,
   "id": "0e29b865-840a-4cdf-8fd6-40c24a15b68f",
   "metadata": {},
   "outputs": [],
   "source": [
    "# install the required python packages\n",
    "# !pip install numpy pandas"
   ]
  },
  {
   "cell_type": "markdown",
   "id": "bf685492-0703-4960-990d-9c8cf99e1477",
   "metadata": {},
   "source": [
    "- One bullet point for each package, explaining what it does"
   ]
  },
  {
   "cell_type": "markdown",
   "id": "54344ca4-603b-4e73-9fc8-7a129871bcb9",
   "metadata": {},
   "source": [
    "## Implementing our method to find consecutive groups of integers"
   ]
  },
  {
   "cell_type": "code",
   "execution_count": 2,
   "id": "7b2aaf99-d10e-446a-8d74-6bce86ba2109",
   "metadata": {},
   "outputs": [],
   "source": [
    "# import the necessary packages\n",
    "from typing import Union\n",
    "from typing import Sequence\n",
    "from typing import Tuple\n",
    "from typing import List\n",
    "import numpy as np"
   ]
  },
  {
   "cell_type": "markdown",
   "id": "589d0082-59fe-4a65-8870-966059b8f126",
   "metadata": {},
   "source": [
    "- Explain imports\n",
    "- Then define our `find_consecutive_integers` function"
   ]
  },
  {
   "cell_type": "code",
   "execution_count": 3,
   "id": "429492df-de96-4033-81f7-4a5dbaf00218",
   "metadata": {},
   "outputs": [],
   "source": [
    "def find_consecutive_integers(\n",
    "        idxs: Union[np.typing.ArrayLike, Sequence[int]],\n",
    "        min_consec: int,\n",
    "        start_offset: int = 0\n",
    ") -> List[Tuple[int, int]]:\n",
    "    # check to see if the indexes input is empty\n",
    "    if len(idxs) == 0:\n",
    "        # return an empty list\n",
    "        return []\n",
    "\n",
    "    # ensure the indexes are an array, then initialize a list to store the\n",
    "    # groups\n",
    "    idxs = np.array(idxs)\n",
    "    groups = []\n",
    "\n",
    "    # find boundaries in consecutive sequences where the difference between\n",
    "    # consecutive elements is *not* one, then add in the start and ending\n",
    "    # indexes to the boundaries\n",
    "    boundaries = np.where(np.diff(idxs) != 1)[0] + 1\n",
    "    boundaries = np.concatenate(([0], boundaries, [len(idxs)]))\n",
    "\n",
    "    # loop over the boundary ranges\n",
    "    for i in range(0, len(boundaries) - 1):\n",
    "        # grab the start and end index of the boundary\n",
    "        start_idx = boundaries[i]\n",
    "        end_idx = boundaries[i + 1] - 1\n",
    "\n",
    "        # check to see if the length of the group is greater than our minimum\n",
    "        # threshold\n",
    "        if end_idx - start_idx + 1 >= min_consec:\n",
    "            # update the list of groups\n",
    "            groups.append((\n",
    "                int(idxs[start_idx]) + start_offset,\n",
    "                int(idxs[end_idx]) + start_offset\n",
    "            ))\n",
    "\n",
    "    # return the groups\n",
    "    return groups"
   ]
  },
  {
   "cell_type": "markdown",
   "id": "2b89ed60-e795-4bfd-beeb-d94411c9b509",
   "metadata": {},
   "source": [
    "**Block 1:**\n",
    "- Explain parameters to function\n",
    "- Explain return type\n",
    "\n",
    "**Block 2:**\n",
    "- Initialize `idxs` and `groups`\n",
    "- Find boundaries in consecutive sequences\n",
    "    - Explain this block _in detail_\n",
    "    - It's the core of the function\n",
    "    - Explain what `np.diff` is doing, and what the output of `np.where` is\n",
    "    - Explain why we add in the `[0]` and `[len(idxs]` values to the list, and what they represent\n",
    "\n",
    "**Block 3:**\n",
    "- Loop over boundary ranges\n",
    "- Grab start and end indexes\n",
    "- Check if length of group meets our minimum consecutive threshold\n",
    "- Update the `groups` list\n",
    "- Return the `groups`"
   ]
  },
  {
   "cell_type": "markdown",
   "id": "20faef55-dde1-407f-a4de-59bd5d4a10e5",
   "metadata": {},
   "source": [
    "## Verifying our consecutive grouping method is working correctly"
   ]
  },
  {
   "cell_type": "code",
   "execution_count": 4,
   "id": "1bd14d13-0faf-4e49-a235-315839888756",
   "metadata": {},
   "outputs": [],
   "source": [
    "# define an array of consecutive integers\n",
    "test_array = np.array([\n",
    "    3, 4, 5, 6,         # 4 consecutive integers\n",
    "    9, 10,              # 2 consecutive integers\n",
    "    15, 16, 17, 18, 19, # 5 consecutive integers\n",
    "    25,                 # single value\n",
    "    30, 31, 32,         # 3 consecutive integers\n",
    "    40, 42, 44,         # non-consecutive integers\n",
    "    50, 51, 52, 53      # 4 consecutive integers\n",
    "])"
   ]
  },
  {
   "cell_type": "markdown",
   "id": "7b167e8c-fc52-4927-bb9e-23524c0d665b",
   "metadata": {},
   "source": [
    "- Define `test_array` containing various consecutive sequence sizes"
   ]
  },
  {
   "cell_type": "code",
   "execution_count": 5,
   "id": "eb8cbe1c-9b8f-438f-a062-c87a32d4be8f",
   "metadata": {},
   "outputs": [
    {
     "data": {
      "text/plain": [
       "[(3, 6), (15, 19), (30, 32), (50, 53)]"
      ]
     },
     "execution_count": 5,
     "metadata": {},
     "output_type": "execute_result"
    }
   ],
   "source": [
    "# find sequences with at least three consecutive groups\n",
    "find_consecutive_integers(test_array, min_consec=3)"
   ]
  },
  {
   "cell_type": "markdown",
   "id": "a2205cdd-8af1-418c-b665-4bcfadc9864c",
   "metadata": {},
   "source": [
    "- Find all consecutive sequences of at least size 3\n",
    "- Explain output corresponds to the integer ranges 3-6, 15-19, 30-32, and 50-53"
   ]
  },
  {
   "cell_type": "code",
   "execution_count": 6,
   "id": "6729683d-d207-44d5-85a9-68b2517fda62",
   "metadata": {},
   "outputs": [
    {
     "data": {
      "text/plain": [
       "[(3, 6), (15, 19), (50, 53)]"
      ]
     },
     "execution_count": 6,
     "metadata": {},
     "output_type": "execute_result"
    }
   ],
   "source": [
    "# find sequences with at least four consecutive groups\n",
    "find_consecutive_integers(test_array, min_consec=4)"
   ]
  },
  {
   "cell_type": "markdown",
   "id": "9b1c864f-7c9c-4a25-95c9-be8e2d07128c",
   "metadata": {},
   "source": [
    "- Increase minimum consecutive size to 4"
   ]
  },
  {
   "cell_type": "code",
   "execution_count": 7,
   "id": "11d9e9db-cf7b-465f-a9b1-359d4df93299",
   "metadata": {},
   "outputs": [
    {
     "data": {
      "text/plain": [
       "[(15, 19)]"
      ]
     },
     "execution_count": 7,
     "metadata": {},
     "output_type": "execute_result"
    }
   ],
   "source": [
    "# find sequences with at least five consecutive groups\n",
    "find_consecutive_integers(test_array, min_consec=5)"
   ]
  },
  {
   "cell_type": "markdown",
   "id": "379b20e9-4541-4a07-b9f5-417056b06d23",
   "metadata": {},
   "source": [
    "- Increase minumum consective size to 5\n",
    "- Only one group returned"
   ]
  },
  {
   "cell_type": "code",
   "execution_count": 8,
   "id": "91d0e06e-10df-4efd-824e-638d2604a8c2",
   "metadata": {},
   "outputs": [
    {
     "data": {
      "text/plain": [
       "[]"
      ]
     },
     "execution_count": 8,
     "metadata": {},
     "output_type": "execute_result"
    }
   ],
   "source": [
    "# find sequences with at least ten consecutive groups\n",
    "find_consecutive_integers(test_array, min_consec=10)"
   ]
  },
  {
   "cell_type": "markdown",
   "id": "86e1ba55-2b11-414b-a2f9-49924d167c3c",
   "metadata": {},
   "source": [
    "- There are no groups of at least size 10"
   ]
  },
  {
   "cell_type": "code",
   "execution_count": 9,
   "id": "5224bde7-e9dd-497d-8d03-e97f5184fc2f",
   "metadata": {},
   "outputs": [
    {
     "data": {
      "text/plain": [
       "[]"
      ]
     },
     "execution_count": 9,
     "metadata": {},
     "output_type": "execute_result"
    }
   ],
   "source": [
    "# verify that passing in an empty list also returns empty groups\n",
    "find_consecutive_integers([], min_consec=3)"
   ]
  },
  {
   "cell_type": "markdown",
   "id": "86f428c1-603e-444b-aaf5-de09c37b1c7c",
   "metadata": {},
   "source": [
    "- And if we pass in an empty list we'll trivially get no groups back out"
   ]
  },
  {
   "cell_type": "markdown",
   "id": "2747be42-40bb-4b59-83e8-946223c39622",
   "metadata": {},
   "source": [
    "## Exercises\n",
    "\n",
    "- Give user simple exercises they can do to extend their knowledge gained from this tutorial"
   ]
  },
  {
   "cell_type": "markdown",
   "id": "b39c9b3c-a405-43bb-8ba6-8e2cda6a5fef",
   "metadata": {},
   "source": [
    "## Final thoughts\n",
    "\n",
    "- Summarize this article\n",
    "- Final sentence should be \"In the next tutorial, we'll...\""
   ]
  },
  {
   "cell_type": "markdown",
   "id": "4328d9c5-5352-4f4b-99fe-4f1dcb7949d1",
   "metadata": {},
   "source": [
    "## Download the source code to this tutorial\n",
    "\n",
    "Use the following:\n",
    "\n",
    "```\n",
    "<a class=optin-code-trigger href=#optin>👉 Click here to download the source code to this tutorial</a>\n",
    "```"
   ]
  },
  {
   "cell_type": "code",
   "execution_count": null,
   "id": "087bede6-0cf6-4ffe-a753-0781723f8155",
   "metadata": {},
   "outputs": [],
   "source": []
  }
 ],
 "metadata": {
  "kernelspec": {
   "display_name": "Python 3 (ipykernel)",
   "language": "python",
   "name": "python3"
  },
  "language_info": {
   "codemirror_mode": {
    "name": "ipython",
    "version": 3
   },
   "file_extension": ".py",
   "mimetype": "text/x-python",
   "name": "python",
   "nbconvert_exporter": "python",
   "pygments_lexer": "ipython3",
   "version": "3.11.4"
  }
 },
 "nbformat": 4,
 "nbformat_minor": 5
}

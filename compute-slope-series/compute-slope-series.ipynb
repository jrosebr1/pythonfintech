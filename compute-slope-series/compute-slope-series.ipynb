{
 "cells": [
  {
   "cell_type": "markdown",
   "id": "7070fe06-e2d3-401b-b5dc-f13bb2e649ac",
   "metadata": {},
   "source": [
    "# Computing slope of series with Pandas and SciPy\n",
    "\n",
    "In this tutorial, you'll learn how to compute the slope of a `Series` with Pandas and SciPy.\n",
    "\n",
    "Not a trading tutorial per se, but it's a helper function that exists in my personal fintech library that I developed for myself.\n",
    "\n",
    "Provide examples of when computing slope of series is useful in a fintech context:\n",
    "\n",
    "- Positive/negative trend of price action (e.g., is the price going up or down)\n",
    "- Analyzing fundamental data (e.g., are net/gross profit margins improving?)\n",
    "\n",
    "We'll be using it in our Part 7 of this series for market stage detection.\n",
    "\n",
    "This tutorial is part 6 in a larger series on getting started with fintech and market analysis with Python:\n",
    "\n",
    "1. How to download market data with yfinance and Python\n",
    "2. My preferred MultiIndex DataFrame structure for stock market data\n",
    "3. How to plot candlestick charts with Python and mplfinance\n",
    "4. How to compute Simple Moving Averages (SMAs) for trading with Python and Pandas\n",
    "5. Finding consecutive integer groups in arrays with Python and NumPy\n",
    "6. _Computing slope of series with Pandas and SciPy (this tutorial)_\n",
    "7. Market stage detection with Python and Pandas\n",
    "8. Implementing TradingView’s Stochastic RSI indicator in Python\n",
    "9. Introduction to position sizing\n",
    "10. Risk/Reward analysis and position sizing with Python"
   ]
  },
  {
   "cell_type": "markdown",
   "id": "bd90fb7e-4e16-40c4-99b3-f31e8b1fee80",
   "metadata": {},
   "source": [
    "## Configuring your development environment"
   ]
  },
  {
   "cell_type": "markdown",
   "id": "936e2af2-ac2a-4298-b16c-4b6b01e948d2",
   "metadata": {},
   "source": [
    "- Before we dive in, let’s set up our Python environment with the packages we’ll need:"
   ]
  },
  {
   "cell_type": "code",
   "execution_count": 1,
   "id": "0e29b865-840a-4cdf-8fd6-40c24a15b68f",
   "metadata": {},
   "outputs": [],
   "source": [
    "# install the required python packages\n",
    "# !pip install numpy scipy pandas yfinance matplotlib mplfinance"
   ]
  },
  {
   "cell_type": "markdown",
   "id": "f658f994-983c-4855-b7a9-6efb1df16156",
   "metadata": {},
   "source": [
    "- One bullet point for each package, explaining what it does"
   ]
  },
  {
   "cell_type": "markdown",
   "id": "54344ca4-603b-4e73-9fc8-7a129871bcb9",
   "metadata": {},
   "source": [
    "## Implemeting our method to compute slope of series"
   ]
  },
  {
   "cell_type": "code",
   "execution_count": 2,
   "id": "b239cee2-3a6a-46b6-8dc3-6b8a3fb6edf3",
   "metadata": {},
   "outputs": [],
   "source": [
    "# import the necessary packages\n",
    "from datetime import datetime\n",
    "from scipy import stats\n",
    "import mplfinance as mpf\n",
    "import yfinance as yf\n",
    "import pandas as pd\n",
    "import numpy as np"
   ]
  },
  {
   "cell_type": "markdown",
   "id": "10eaf9d1-ff62-4212-bbd5-cf9ff1394a90",
   "metadata": {},
   "source": [
    "- Explain imports\n",
    "- Implement `calculate_slope` method:"
   ]
  },
  {
   "cell_type": "code",
   "execution_count": 3,
   "id": "fd79e94b-bb8c-43c4-a815-bfb1a17e16ab",
   "metadata": {},
   "outputs": [],
   "source": [
    "def calculate_slope(series: pd.Series) -> float:\n",
    "    # check to see if less than two points were provided\n",
    "    if len(series) < 2:\n",
    "        # return NaN since slope cannot be computed\n",
    "        return np.nan\n",
    "\n",
    "    # check to see if performing linear regression would cause a division by\n",
    "    # zero error, including (2) *any* of the data points in the series being\n",
    "    # NaN, or (2) *all* values in the series being equal\n",
    "    if series.isna().any() or np.all(series == series.iloc[0]):\n",
    "        # return NaN\n",
    "        return np.nan\n",
    "    \n",
    "    # compute and return the slope for the input data points\n",
    "    return stats.linregress(np.arange(0, len(series)), series).slope"
   ]
  },
  {
   "cell_type": "markdown",
   "id": "ac5fd8ae-150d-447a-a39c-14df98759980",
   "metadata": {},
   "source": [
    "- Input value should be Pandas `Series` object and output value will be the computed slope\n",
    "- Need at least two points to compute slope\n",
    "- Check if there are any Nan values in series, or all values in series are equal, which would result in a divison by zero error\n",
    "- Compute slope using `SciPy` and the `stats.lingress` function which performs linear regression\n",
    "- Return slope of series"
   ]
  },
  {
   "cell_type": "markdown",
   "id": "f73e7c22-8ba9-43f6-b3bd-3438a89728b3",
   "metadata": {},
   "source": [
    "## Computing slope of series with Pandas and SciPy"
   ]
  },
  {
   "cell_type": "markdown",
   "id": "61ffbf79-c6b8-47cb-bd83-3b117a92ba7f",
   "metadata": {},
   "source": [
    "- We'll demo the `calculate_slope` function by computing the slope of a stock prices"
   ]
  },
  {
   "cell_type": "markdown",
   "id": "e2637ac7-bbe2-493c-947f-88bddc7b5949",
   "metadata": {},
   "source": [
    "### Positive slope"
   ]
  },
  {
   "cell_type": "code",
   "execution_count": 4,
   "id": "60ee91c5-9a08-4f1c-9799-ad4276735b7e",
   "metadata": {},
   "outputs": [],
   "source": [
    "# define the ticker we are interested in\n",
    "ticker = \"CLS\"\n",
    "\n",
    "# set the start and end date of history requests\n",
    "end_date = datetime(year=2025, month=1, day=22)\n",
    "start_date = datetime(year=2024, month=10, day=1)"
   ]
  },
  {
   "cell_type": "markdown",
   "id": "aaad7446-ea4d-4146-8043-a02a952a5cc9",
   "metadata": {},
   "source": [
    "- Set ticker\n",
    "- Set start and end date of requests"
   ]
  },
  {
   "cell_type": "code",
   "execution_count": 5,
   "id": "591ed6d4-d79c-4998-a768-ba8715c76112",
   "metadata": {},
   "outputs": [],
   "source": [
    "# download market data\n",
    "df = yf.download(\n",
    "    tickers=ticker,\n",
    "    start=start_date,\n",
    "    end=end_date,\n",
    "    interval=\"1d\",\n",
    "    group_by=\"ticker\",\n",
    "    auto_adjust=True,\n",
    "    progress=False\n",
    ")"
   ]
  },
  {
   "cell_type": "markdown",
   "id": "61e5f983-40f2-4b18-a754-89e5429fc2ef",
   "metadata": {},
   "source": [
    "- Download market data with `yfinance`\n",
    "    - Link back to Hugo `ref` article: `how-to-download-market-data-yfinance-python`"
   ]
  },
  {
   "cell_type": "code",
   "execution_count": 6,
   "id": "50a645e8-98fe-4547-b149-169b46eac3cb",
   "metadata": {},
   "outputs": [
    {
     "data": {
      "text/plain": [
       "np.float64(0.7419833146132432)"
      ]
     },
     "execution_count": 6,
     "metadata": {},
     "output_type": "execute_result"
    }
   ],
   "source": [
    "# compute the slope of the series\n",
    "slope = calculate_slope(df[ticker][\"Close\"])\n",
    "slope"
   ]
  },
  {
   "cell_type": "markdown",
   "id": "ca5460e2-2f58-4e96-958a-50e5045322f3",
   "metadata": {},
   "source": [
    "- Compute slope of ticker prices\n",
    "- Notice how the slope is positive, implying price is _increasing_"
   ]
  },
  {
   "cell_type": "code",
   "execution_count": 7,
   "id": "4a074266-d444-4230-9449-45a5fe6cf5f2",
   "metadata": {},
   "outputs": [],
   "source": [
    "# compute the start and end price based on the value of our slope\n",
    "start_price = df[ticker][\"Close\"].iloc[0]\n",
    "end_price = start_price + (slope * (len(df) - 1))"
   ]
  },
  {
   "cell_type": "markdown",
   "id": "287bb8ec-7739-41c8-9da7-be746ff8f6da",
   "metadata": {},
   "source": [
    "- Compute the start and end price based on the slope"
   ]
  },
  {
   "cell_type": "code",
   "execution_count": 8,
   "id": "8a7244ff-d790-4d4e-bb94-a52314ea1f2e",
   "metadata": {},
   "outputs": [
    {
     "data": {
      "image/png": "[encoded data removed]",
      "text/plain": [
       "<Figure size 1400x700 with 2 Axes>"
      ]
     },
     "metadata": {},
     "output_type": "display_data"
    }
   ],
   "source": [
    "# plot the OHLCV bars, along with the slope\n",
    "mpf.plot(\n",
    "    df[ticker],\n",
    "    type=\"candle\",\n",
    "    style=\"yahoo\",\n",
    "    figsize=(14, 7),\n",
    "    title=f\"{ticker} (Slope={slope:0.2f})\",\n",
    "    alines=dict(\n",
    "        alines=[(df.index[0], start_price), (df.index[-1], end_price)],\n",
    "        colors=[\"purple\"],\n",
    "        linewidths=1.5,\n",
    "        alpha=0.75\n",
    "    )\n",
    ")"
   ]
  },
  {
   "cell_type": "markdown",
   "id": "5d68bbae-a5b5-4938-94e8-3fcfb62041c9",
   "metadata": {},
   "source": [
    "- Plot candlesticks along with the slope line (purple)\n",
    "- One bullet point per parameter to `mpf.plot`\n",
    "    - Exception being `alines`\n",
    "    - Create a new set of bullet points to explain these values and what they control"
   ]
  },
  {
   "cell_type": "markdown",
   "id": "e058450b-9625-4351-92c5-eb8f029f33d0",
   "metadata": {},
   "source": [
    "### Negative slope"
   ]
  },
  {
   "cell_type": "markdown",
   "id": "fa737768-6664-4182-badc-cd7e05bc9bba",
   "metadata": {},
   "source": [
    "- Now let's look at an example of the price of a ticker going down\n",
    "- NVDA has struggled in early 2025, let's use them"
   ]
  },
  {
   "cell_type": "code",
   "execution_count": 9,
   "id": "c99cb1f4-5671-4823-893c-1197876c3608",
   "metadata": {},
   "outputs": [],
   "source": [
    "# define the ticker we are interested in\n",
    "ticker = \"NVDA\"\n",
    "\n",
    "# set the start and end date of history requests\n",
    "end_date = datetime(year=2025, month=3, day=10)\n",
    "start_date = datetime(year=2025, month=2, day=15)"
   ]
  },
  {
   "cell_type": "markdown",
   "id": "3226245a-cf5c-4d6f-82ea-b84b2c2e79d0",
   "metadata": {},
   "source": [
    "- Set ticker, start date, and end date"
   ]
  },
  {
   "cell_type": "code",
   "execution_count": 10,
   "id": "f1c26788-25d9-4e49-9f06-ff240bcc83d1",
   "metadata": {},
   "outputs": [],
   "source": [
    "# download market data\n",
    "df = yf.download(\n",
    "    tickers=ticker,\n",
    "    start=start_date,\n",
    "    end=end_date,\n",
    "    interval=\"1d\",\n",
    "    group_by=\"ticker\",\n",
    "    auto_adjust=True,\n",
    "    progress=False\n",
    ")"
   ]
  },
  {
   "cell_type": "markdown",
   "id": "82af2aa5-f968-488c-a675-9b3abaa43896",
   "metadata": {},
   "source": [
    "- Fetch OHLCV data for NVDA"
   ]
  },
  {
   "cell_type": "code",
   "execution_count": 11,
   "id": "07de1ad2-aba0-466f-a2fe-8f06931612e8",
   "metadata": {},
   "outputs": [
    {
     "data": {
      "text/plain": [
       "np.float64(-2.404878654060783)"
      ]
     },
     "execution_count": 11,
     "metadata": {},
     "output_type": "execute_result"
    }
   ],
   "source": [
    "# compute the slope of the series\n",
    "slope = calculate_slope(df[ticker][\"Close\"])\n",
    "slope"
   ]
  },
  {
   "cell_type": "markdown",
   "id": "a53bc1c6-1814-4afe-8991-6a5bbab0cd0d",
   "metadata": {},
   "source": [
    "- Compute slope\n",
    "- Note how the slope is negative"
   ]
  },
  {
   "cell_type": "code",
   "execution_count": 12,
   "id": "8e333145-31a6-4235-bcb1-09683e64d647",
   "metadata": {},
   "outputs": [],
   "source": [
    "# compute the start and end price based on the value of our slope\n",
    "start_price = df[ticker][\"Close\"].iloc[0]\n",
    "end_price = start_price + (slope * (len(df) - 1))"
   ]
  },
  {
   "cell_type": "markdown",
   "id": "fafaffd3-c088-4a34-a98a-5d41c10d9da3",
   "metadata": {},
   "source": [
    "- Again, derive start and end price based on slope"
   ]
  },
  {
   "cell_type": "code",
   "execution_count": 13,
   "id": "024711b0-2be7-422a-a3a0-6a889080a450",
   "metadata": {},
   "outputs": [
    {
     "data": {
      "image/png": "[encoded data removed]",
      "text/plain": [
       "<Figure size 1400x700 with 2 Axes>"
      ]
     },
     "metadata": {},
     "output_type": "display_data"
    }
   ],
   "source": [
    "# plot the OHLCV bars, along with the slope\n",
    "mpf.plot(\n",
    "    df[ticker],\n",
    "    type=\"candle\",\n",
    "    style=\"yahoo\",\n",
    "    figsize=(14, 7),\n",
    "    title=f\"{ticker} (Slope={slope:0.2f})\",\n",
    "    alines=dict(\n",
    "        alines=[(df.index[0], start_price), (df.index[-1], end_price)],\n",
    "        colors=[\"purple\"],\n",
    "        linewidths=1.5,\n",
    "        alpha=0.75\n",
    "    )\n",
    ")"
   ]
  },
  {
   "cell_type": "markdown",
   "id": "90e4b3c8-b0f5-407a-8c78-da79a7d6e528",
   "metadata": {},
   "source": [
    "- Plot candlesticks and slope (purple)\n",
    "- Note that the price is decreasing along with the slope"
   ]
  },
  {
   "cell_type": "markdown",
   "id": "bbba851e-2fdc-4804-b39a-490f136a7e42",
   "metadata": {},
   "source": [
    "## Where else can slope calculation be used in fintech applications?\n",
    "\n",
    "- Provide bulleted list of examples in fintech where we would compute slope of series"
   ]
  },
  {
   "cell_type": "markdown",
   "id": "4abe9a40-b3fc-47b5-90fb-86b3eb39362b",
   "metadata": {},
   "source": [
    "## Exercises\n",
    "\n",
    "- Give user simple exercises they can do to extend their knowledge gained from this tutorial"
   ]
  },
  {
   "cell_type": "markdown",
   "id": "7dd7917b-16bf-408c-9b7f-cc3414928f20",
   "metadata": {},
   "source": [
    "## Final thoughts\n",
    "\n",
    "- Summarize this article\n",
    "- Final sentence should be \"In the next tutorial, we'll...\""
   ]
  },
  {
   "cell_type": "markdown",
   "id": "ca49ecf4-0bfe-46af-b9bf-79f6524965fd",
   "metadata": {},
   "source": [
    "## Download the source code to this tutorial\n",
    "\n",
    "Use the following:\n",
    "\n",
    "```\n",
    "<a class=optin-code-trigger href=#optin>👉 Click here to download the source code to this tutorial</a>\n",
    "```"
   ]
  },
  {
   "cell_type": "code",
   "execution_count": null,
   "id": "f6372470-d805-4d66-9308-2ba14db4853c",
   "metadata": {},
   "outputs": [],
   "source": []
  }
 ],
 "metadata": {
  "kernelspec": {
   "display_name": "Python 3 (ipykernel)",
   "language": "python",
   "name": "python3"
  },
  "language_info": {
   "codemirror_mode": {
    "name": "ipython",
    "version": 3
   },
   "file_extension": ".py",
   "mimetype": "text/x-python",
   "name": "python",
   "nbconvert_exporter": "python",
   "pygments_lexer": "ipython3",
   "version": "3.11.4"
  }
 },
 "nbformat": 4,
 "nbformat_minor": 5
}
